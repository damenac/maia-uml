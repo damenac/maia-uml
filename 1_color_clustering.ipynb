{
 "cells": [
  {
   "cell_type": "code",
   "execution_count": 9,
   "metadata": {},
   "outputs": [],
   "source": [
    "import pandas as pd\n",
    "import imageio.v2 as imageio\n",
    "import matplotlib.pyplot as plt "
   ]
  },
  {
   "cell_type": "code",
   "execution_count": 33,
   "metadata": {},
   "outputs": [],
   "source": [
    "def load_image(path, print=False):\n",
    "    '''\n",
    "    Load an image from a given path. This function returns the pixels matrix, each cell of the matrix is a \n",
    "    3-dimensional array with the RGB components of the pixel.\n",
    "    '''\n",
    "    image_matrix = imageio.imread(path)\n",
    "\n",
    "    if print :\n",
    "        plt.figure() \n",
    "        plt.subplot(121) \n",
    "        plt.imshow(image_matrix)\n",
    "        \n",
    "    return image_matrix\n",
    "\n",
    "\n",
    "def build_dataframe(image):\n",
    "    '''\n",
    "    Transform the image given in the parameter in a data frame with three variables: R, G, and B\n",
    "    '''\n",
    "    columns = len(image)\n",
    "    rows = len(image[0])\n",
    "    data = []\n",
    "\n",
    "    for i in range(columns):\n",
    "        for j in range(rows):\n",
    "            color = image[i][j]\n",
    "            R, G, B = color[0], color[1], color[2]\n",
    "            data.append([R, G, B])\n",
    "\n",
    "    data_frame = pd.DataFrame(columns=['R', 'G', 'B'], data=data)\n",
    "    return data_frame\n"
   ]
  },
  {
   "cell_type": "code",
   "execution_count": 37,
   "metadata": {},
   "outputs": [],
   "source": [
    "image_matrix = load_image(path='datos/archive/Abstract_Expressionism/aaron-siskind_acolman-1-1955.jpg', print=False)\n",
    "data = build_dataframe(image_matrix)"
   ]
  },
  {
   "cell_type": "code",
   "execution_count": 36,
   "metadata": {},
   "outputs": [
    {
     "data": {
      "text/plain": [
       "(2656204, 3)"
      ]
     },
     "execution_count": 36,
     "metadata": {},
     "output_type": "execute_result"
    }
   ],
   "source": [
    "data.shape"
   ]
  },
  {
   "cell_type": "code",
   "execution_count": 38,
   "metadata": {},
   "outputs": [
    {
     "data": {
      "text/html": [
       "<div>\n",
       "<style scoped>\n",
       "    .dataframe tbody tr th:only-of-type {\n",
       "        vertical-align: middle;\n",
       "    }\n",
       "\n",
       "    .dataframe tbody tr th {\n",
       "        vertical-align: top;\n",
       "    }\n",
       "\n",
       "    .dataframe thead th {\n",
       "        text-align: right;\n",
       "    }\n",
       "</style>\n",
       "<table border=\"1\" class=\"dataframe\">\n",
       "  <thead>\n",
       "    <tr style=\"text-align: right;\">\n",
       "      <th></th>\n",
       "      <th>R</th>\n",
       "      <th>G</th>\n",
       "      <th>B</th>\n",
       "    </tr>\n",
       "  </thead>\n",
       "  <tbody>\n",
       "    <tr>\n",
       "      <th>count</th>\n",
       "      <td>2.656204e+06</td>\n",
       "      <td>2.656204e+06</td>\n",
       "      <td>2.656204e+06</td>\n",
       "    </tr>\n",
       "    <tr>\n",
       "      <th>mean</th>\n",
       "      <td>8.429310e+01</td>\n",
       "      <td>8.370290e+01</td>\n",
       "      <td>7.941962e+01</td>\n",
       "    </tr>\n",
       "    <tr>\n",
       "      <th>std</th>\n",
       "      <td>6.002259e+01</td>\n",
       "      <td>6.066925e+01</td>\n",
       "      <td>6.117250e+01</td>\n",
       "    </tr>\n",
       "    <tr>\n",
       "      <th>min</th>\n",
       "      <td>0.000000e+00</td>\n",
       "      <td>0.000000e+00</td>\n",
       "      <td>0.000000e+00</td>\n",
       "    </tr>\n",
       "    <tr>\n",
       "      <th>25%</th>\n",
       "      <td>3.700000e+01</td>\n",
       "      <td>3.600000e+01</td>\n",
       "      <td>3.200000e+01</td>\n",
       "    </tr>\n",
       "    <tr>\n",
       "      <th>50%</th>\n",
       "      <td>7.000000e+01</td>\n",
       "      <td>7.000000e+01</td>\n",
       "      <td>6.500000e+01</td>\n",
       "    </tr>\n",
       "    <tr>\n",
       "      <th>75%</th>\n",
       "      <td>1.160000e+02</td>\n",
       "      <td>1.160000e+02</td>\n",
       "      <td>1.120000e+02</td>\n",
       "    </tr>\n",
       "    <tr>\n",
       "      <th>max</th>\n",
       "      <td>2.550000e+02</td>\n",
       "      <td>2.550000e+02</td>\n",
       "      <td>2.550000e+02</td>\n",
       "    </tr>\n",
       "  </tbody>\n",
       "</table>\n",
       "</div>"
      ],
      "text/plain": [
       "                  R             G             B\n",
       "count  2.656204e+06  2.656204e+06  2.656204e+06\n",
       "mean   8.429310e+01  8.370290e+01  7.941962e+01\n",
       "std    6.002259e+01  6.066925e+01  6.117250e+01\n",
       "min    0.000000e+00  0.000000e+00  0.000000e+00\n",
       "25%    3.700000e+01  3.600000e+01  3.200000e+01\n",
       "50%    7.000000e+01  7.000000e+01  6.500000e+01\n",
       "75%    1.160000e+02  1.160000e+02  1.120000e+02\n",
       "max    2.550000e+02  2.550000e+02  2.550000e+02"
      ]
     },
     "execution_count": 38,
     "metadata": {},
     "output_type": "execute_result"
    }
   ],
   "source": [
    "data.describe()"
   ]
  }
 ],
 "metadata": {
  "kernelspec": {
   "display_name": ".venv",
   "language": "python",
   "name": "python3"
  },
  "language_info": {
   "codemirror_mode": {
    "name": "ipython",
    "version": 3
   },
   "file_extension": ".py",
   "mimetype": "text/x-python",
   "name": "python",
   "nbconvert_exporter": "python",
   "pygments_lexer": "ipython3",
   "version": "3.11.4"
  }
 },
 "nbformat": 4,
 "nbformat_minor": 2
}
