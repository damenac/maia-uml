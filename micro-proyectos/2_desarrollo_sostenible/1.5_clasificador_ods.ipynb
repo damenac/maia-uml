{
 "cells": [
  {
   "cell_type": "markdown",
   "metadata": {},
   "source": [
    "**Universidad de los Andes**<br>\n",
    "Facultad de Ingeniería<br>\n",
    "__Maestría en Inteligencia Artificial__"
   ]
  },
  {
   "cell_type": "markdown",
   "metadata": {},
   "source": [
    "# Clasificador de documentos en términos de objetivos de desarrollo sostenible (ODS)\n",
    "\n",
    "Autores: __Andrés Vega__ y __David Méndez Acuña__\n",
    "\n",
    "## Introducción\n",
    "\n",
    "En este notebook, presentamos nuestra solución al segundo micro-proyecto del curso de machine learning no supervisado. El objetivo es clasificar automáticamente documentos en términos de una serie de los objetivos de desarrollo sostenible fijados por Naciones Unidas. Se espera facilitar el proceso de interpretación textual procedente de diferentes fuentes implicadas en la planeación participativa para el desarrollo a nivel territorial. La Figura 1 muestra la lista de objetivos de desarrollo sostenible que se usarán para la clasificación. \n",
    "\n",
    "\n",
    "<br>\n",
    "<center>\n",
    "    <img src=\"https://raw.githubusercontent.com/damenac/maia-uml/main/micro-proyectos/2_desarrollo_sostenible/ods.png\" width=\"800\">\n",
    "</center>\n",
    "<center>\n",
    "Figura 1.Objetivos de desarrollo sostenible definidos por Naciones Unidas.\n",
    "</center>\n",
    "<br>"
   ]
  },
  {
   "cell_type": "code",
   "execution_count": 8,
   "metadata": {},
   "outputs": [
    {
     "name": "stderr",
     "output_type": "stream",
     "text": [
      "[nltk_data] Downloading package stopwords to\n",
      "[nltk_data]     C:\\Users\\AV\\AppData\\Roaming\\nltk_data...\n",
      "[nltk_data]   Package stopwords is already up-to-date!\n",
      "[nltk_data] Downloading package punkt to\n",
      "[nltk_data]     C:\\Users\\AV\\AppData\\Roaming\\nltk_data...\n",
      "[nltk_data]   Package punkt is already up-to-date!\n"
     ]
    }
   ],
   "source": [
    "import pandas as pd\n",
    "import matplotlib.pyplot as plt\n",
    "\n",
    "import nltk\n",
    "from nltk.stem import PorterStemmer\n",
    "from nltk.corpus import stopwords\n",
    "\n",
    "import os\n",
    "\n",
    "from sklearn.decomposition import TruncatedSVD\n",
    "from sklearn.linear_model import LogisticRegression\n",
    "from sklearn.model_selection import RandomizedSearchCV, GridSearchCV, train_test_split, KFold, cross_validate, cross_val_predict, cross_val_score, StratifiedKFold\n",
    "from sklearn.metrics import classification_report\n",
    "from sklearn.neural_network import MLPClassifier\n",
    "from sklearn.svm import SVC\n",
    "from sklearn.ensemble import RandomForestClassifier\n",
    "from xgboost.sklearn import XGBClassifier\n",
    "from sklearn.manifold import TSNE\n",
    "import numpy as np\n",
    "\n",
    "from sklearn.feature_extraction.text import CountVectorizer\n",
    "from sklearn.feature_extraction.text import TfidfVectorizer\n",
    "\n",
    "from sklearn.pipeline import Pipeline\n",
    "\n",
    "from wordcloud import WordCloud\n",
    "from nltk.tokenize import word_tokenize\n",
    "from nltk import RegexpTokenizer\n",
    "\n",
    "import warnings\n",
    "warnings.filterwarnings('ignore')\n",
    "\n",
    "nltk.download('stopwords')\n",
    "nltk.download('punkt')\n",
    "\n",
    "\n",
    "def read_file(file_path=None):\n",
    "    file = open(file_path, \"r\")\n",
    "    content = file.read()\n",
    "    file.close()\n",
    "    return content\n"
   ]
  },
  {
   "cell_type": "markdown",
   "metadata": {},
   "source": [
    "SMOTE se usará para rebalanceo de clases\n",
    "\n",
    "Si ocurre un error durante la importación de esta lib, revisar el siguiente post:\n",
    "https://stackoverflow.com/questions/76593906/how-to-resolve-cannot-import-name-missingvalues-from-sklearn-utils-param-v"
   ]
  },
  {
   "cell_type": "code",
   "execution_count": 9,
   "metadata": {},
   "outputs": [],
   "source": [
    "# !pip install imblearn\n",
    "from imblearn.over_sampling import SMOTE"
   ]
  },
  {
   "cell_type": "markdown",
   "metadata": {},
   "source": [
    "## Carga y preparación de datos"
   ]
  },
  {
   "cell_type": "code",
   "execution_count": 10,
   "metadata": {},
   "outputs": [
    {
     "data": {
      "text/html": [
       "<div>\n",
       "<style scoped>\n",
       "    .dataframe tbody tr th:only-of-type {\n",
       "        vertical-align: middle;\n",
       "    }\n",
       "\n",
       "    .dataframe tbody tr th {\n",
       "        vertical-align: top;\n",
       "    }\n",
       "\n",
       "    .dataframe thead th {\n",
       "        text-align: right;\n",
       "    }\n",
       "</style>\n",
       "<table border=\"1\" class=\"dataframe\">\n",
       "  <thead>\n",
       "    <tr style=\"text-align: right;\">\n",
       "      <th></th>\n",
       "      <th>textos</th>\n",
       "      <th>ODS</th>\n",
       "    </tr>\n",
       "  </thead>\n",
       "  <tbody>\n",
       "    <tr>\n",
       "      <th>0</th>\n",
       "      <td>\"Aprendizaje\" y \"educación\" se consideran sinó...</td>\n",
       "      <td>4</td>\n",
       "    </tr>\n",
       "    <tr>\n",
       "      <th>1</th>\n",
       "      <td>No dejar clara la naturaleza de estos riesgos ...</td>\n",
       "      <td>6</td>\n",
       "    </tr>\n",
       "    <tr>\n",
       "      <th>2</th>\n",
       "      <td>Como resultado, un mayor y mejorado acceso al ...</td>\n",
       "      <td>13</td>\n",
       "    </tr>\n",
       "    <tr>\n",
       "      <th>3</th>\n",
       "      <td>Con el Congreso firmemente en control de la ju...</td>\n",
       "      <td>16</td>\n",
       "    </tr>\n",
       "    <tr>\n",
       "      <th>4</th>\n",
       "      <td>Luego, dos secciones finales analizan las impl...</td>\n",
       "      <td>5</td>\n",
       "    </tr>\n",
       "    <tr>\n",
       "      <th>...</th>\n",
       "      <td>...</td>\n",
       "      <td>...</td>\n",
       "    </tr>\n",
       "    <tr>\n",
       "      <th>9651</th>\n",
       "      <td>Esto implica que el tiempo de las mujeres en e...</td>\n",
       "      <td>5</td>\n",
       "    </tr>\n",
       "    <tr>\n",
       "      <th>9652</th>\n",
       "      <td>Sin embargo, estas fallas del mercado implican...</td>\n",
       "      <td>3</td>\n",
       "    </tr>\n",
       "    <tr>\n",
       "      <th>9653</th>\n",
       "      <td>El hecho de hacerlo y cómo hacerlo dependerá e...</td>\n",
       "      <td>9</td>\n",
       "    </tr>\n",
       "    <tr>\n",
       "      <th>9654</th>\n",
       "      <td>Esto se destacó en el primer estudio de caso, ...</td>\n",
       "      <td>6</td>\n",
       "    </tr>\n",
       "    <tr>\n",
       "      <th>9655</th>\n",
       "      <td>Aunque existen programas para convertirse espe...</td>\n",
       "      <td>4</td>\n",
       "    </tr>\n",
       "  </tbody>\n",
       "</table>\n",
       "<p>9656 rows × 2 columns</p>\n",
       "</div>"
      ],
      "text/plain": [
       "                                                 textos  ODS\n",
       "0     \"Aprendizaje\" y \"educación\" se consideran sinó...    4\n",
       "1     No dejar clara la naturaleza de estos riesgos ...    6\n",
       "2     Como resultado, un mayor y mejorado acceso al ...   13\n",
       "3     Con el Congreso firmemente en control de la ju...   16\n",
       "4     Luego, dos secciones finales analizan las impl...    5\n",
       "...                                                 ...  ...\n",
       "9651  Esto implica que el tiempo de las mujeres en e...    5\n",
       "9652  Sin embargo, estas fallas del mercado implican...    3\n",
       "9653  El hecho de hacerlo y cómo hacerlo dependerá e...    9\n",
       "9654  Esto se destacó en el primer estudio de caso, ...    6\n",
       "9655  Aunque existen programas para convertirse espe...    4\n",
       "\n",
       "[9656 rows x 2 columns]"
      ]
     },
     "execution_count": 10,
     "metadata": {},
     "output_type": "execute_result"
    }
   ],
   "source": [
    "data_raw = pd.read_excel('./data/textos.xlsx')\n",
    "# Se hace una copia del conjunto de datos para evitar su modificación en caso de ser necesaria. \n",
    "data = data_raw.copy()\n",
    "data"
   ]
  },
  {
   "cell_type": "code",
   "execution_count": 11,
   "metadata": {},
   "outputs": [
    {
     "name": "stdout",
     "output_type": "stream",
     "text": [
      "ODS\n",
      "16     1080\n",
      "5      1070\n",
      "4      1025\n",
      "3       894\n",
      "7       787\n",
      "6       695\n",
      "11      607\n",
      "1       505\n",
      "13      464\n",
      "8       446\n",
      "14      377\n",
      "2       369\n",
      "10      352\n",
      "9       343\n",
      "15      330\n",
      "12      312\n",
      "dtype: int64\n"
     ]
    },
    {
     "data": {
      "image/png": "[encoded data removed]",
      "text/plain": [
       "<Figure size 640x480 with 1 Axes>"
      ]
     },
     "metadata": {},
     "output_type": "display_data"
    }
   ],
   "source": [
    "data.iloc[:,[1]].value_counts().plot(kind='pie')\n",
    "print(data.iloc[:,[1]].value_counts())"
   ]
  },
  {
   "cell_type": "markdown",
   "metadata": {},
   "source": [
    "Ser observa que puede haber sesgo con las clases mayoritarias 3, 4, 5 y 16\n",
    "\n",
    "Para esto se hará un rebalanceo de clases usando SMOTE en la fase de preprocesamiento de los datos."
   ]
  },
  {
   "cell_type": "code",
   "execution_count": 12,
   "metadata": {},
   "outputs": [
    {
     "data": {
      "text/html": [
       "<div>\n",
       "<style scoped>\n",
       "    .dataframe tbody tr th:only-of-type {\n",
       "        vertical-align: middle;\n",
       "    }\n",
       "\n",
       "    .dataframe tbody tr th {\n",
       "        vertical-align: top;\n",
       "    }\n",
       "\n",
       "    .dataframe thead th {\n",
       "        text-align: right;\n",
       "    }\n",
       "</style>\n",
       "<table border=\"1\" class=\"dataframe\">\n",
       "  <thead>\n",
       "    <tr style=\"text-align: right;\">\n",
       "      <th></th>\n",
       "      <th>ODS</th>\n",
       "    </tr>\n",
       "  </thead>\n",
       "  <tbody>\n",
       "    <tr>\n",
       "      <th>count</th>\n",
       "      <td>9656.000000</td>\n",
       "    </tr>\n",
       "    <tr>\n",
       "      <th>mean</th>\n",
       "      <td>7.993993</td>\n",
       "    </tr>\n",
       "    <tr>\n",
       "      <th>std</th>\n",
       "      <td>4.692995</td>\n",
       "    </tr>\n",
       "    <tr>\n",
       "      <th>min</th>\n",
       "      <td>1.000000</td>\n",
       "    </tr>\n",
       "    <tr>\n",
       "      <th>25%</th>\n",
       "      <td>4.000000</td>\n",
       "    </tr>\n",
       "    <tr>\n",
       "      <th>50%</th>\n",
       "      <td>7.000000</td>\n",
       "    </tr>\n",
       "    <tr>\n",
       "      <th>75%</th>\n",
       "      <td>12.000000</td>\n",
       "    </tr>\n",
       "    <tr>\n",
       "      <th>max</th>\n",
       "      <td>16.000000</td>\n",
       "    </tr>\n",
       "  </tbody>\n",
       "</table>\n",
       "</div>"
      ],
      "text/plain": [
       "               ODS\n",
       "count  9656.000000\n",
       "mean      7.993993\n",
       "std       4.692995\n",
       "min       1.000000\n",
       "25%       4.000000\n",
       "50%       7.000000\n",
       "75%      12.000000\n",
       "max      16.000000"
      ]
     },
     "execution_count": 12,
     "metadata": {},
     "output_type": "execute_result"
    }
   ],
   "source": [
    "data.describe()"
   ]
  },
  {
   "cell_type": "code",
   "execution_count": 13,
   "metadata": {},
   "outputs": [
    {
     "data": {
      "text/plain": [
       "0"
      ]
     },
     "execution_count": 13,
     "metadata": {},
     "output_type": "execute_result"
    }
   ],
   "source": [
    "data.duplicated().sum()"
   ]
  },
  {
   "cell_type": "code",
   "execution_count": 14,
   "metadata": {},
   "outputs": [
    {
     "data": {
      "text/plain": [
       "textos    0\n",
       "ODS       0\n",
       "dtype: int64"
      ]
     },
     "execution_count": 14,
     "metadata": {},
     "output_type": "execute_result"
    }
   ],
   "source": [
    "data.isna().sum()"
   ]
  },
  {
   "cell_type": "markdown",
   "metadata": {},
   "source": [
    "No existen datos nulos ni duplicados en el conjunto de datos.\n",
    "\n",
    "## Procesamiento de texto\n",
    "\n",
    "En esta sección, se hace el procesamiento de texto necesario para transformar los documentos en bolsas de palabras. \n",
    "\n",
    "Esta función se encarga de tokenizar los textos del conjunto de datos, aplicar filtros de stopwords para eliminar palabras irrelevantes y reducir dimensionalidad, aplicar PorterStemmer y luego vectorizar los textos para que sean comprensibles por el algoritmo del modelo de clasificación"
   ]
  },
  {
   "cell_type": "code",
   "execution_count": 15,
   "metadata": {},
   "outputs": [],
   "source": [
    "def preprocessAndVectorize(data):\n",
    "  tokenizer = RegexpTokenizer(r'\\w+')\n",
    "  tokenized_no_punct = data.apply(lambda x: tokenizer.tokenize(x))\n",
    "\n",
    "  nltk_stopwords = stopwords.words(\"spanish\")\n",
    "  no_stopwords = tokenized_no_punct.apply(lambda x: [token for token in x if token not in nltk_stopwords])  \n",
    "\n",
    "  stemmer = PorterStemmer()\n",
    "  stemmed = no_stopwords.apply(lambda x: [stemmer.stem(token) for token in x])\n",
    "\n",
    "  processed = stemmed.apply(lambda x: ' '.join(x))\n",
    "  \n",
    "  vectorizer_tfidVectorizer = TfidfVectorizer()   \n",
    "  return (vectorizer_tfidVectorizer.fit_transform(processed), no_stopwords, processed)"
   ]
  },
  {
   "cell_type": "code",
   "execution_count": 16,
   "metadata": {},
   "outputs": [],
   "source": [
    "X = data[\"textos\"]\n",
    "y = data[\"ODS\"]\n",
    "x_vec, no_stopwords, processed = preprocessAndVectorize(X)\n",
    "\n",
    "ods_labels = pd.DataFrame(data=['Fin de la probreza', 'Hambre cero', 'Salud y bienestar', 'Educación de calidad', 'Igualdad de género', 'Agua limpia y saneamiento',\n",
    "                         'Energía asequible y no contaminante', 'Trabajo decente y desarrollo económico', 'Industria, innovación e infraestructura', 'Reducción de las desigualdades',\n",
    "                         'Ciudades y comunidades sostenibles', 'Producción y consumo responsable','Acción por el clima', 'Vida submarina', 'Vida de ecosistemas terrestres', \n",
    "                         'Paz, justicia e instituciones sólidas', 'Alianzas para lograr los objetivos'], columns=[\"label\"])\n",
    "\n",
    "x_train, x_val, y_train, y_val = train_test_split(x_vec, y, random_state=42, train_size=0.8)"
   ]
  },
  {
   "cell_type": "code",
   "execution_count": null,
   "metadata": {},
   "outputs": [],
   "source": [
    "x_train.shape"
   ]
  },
  {
   "cell_type": "markdown",
   "metadata": {},
   "source": [
    "Se aplica SMOTE para corregir el desbalance en las clases"
   ]
  },
  {
   "cell_type": "code",
   "execution_count": null,
   "metadata": {},
   "outputs": [],
   "source": [
    "smote = SMOTE(random_state=42)\n",
    "X_train_over, y_train_over = smote.fit_resample(x_train, y_train)\n",
    "X_train_over.shape"
   ]
  },
  {
   "cell_type": "markdown",
   "metadata": {},
   "source": [
    "Podemos observar en la forma de la data resultante que mediante técnicas de oversampling SMOTE genera artificialmente nuevos elementos de las clases minoritarias para alcanzar homogeneidad en las clases. Evidenciado en la siguiente gráfica."
   ]
  },
  {
   "cell_type": "code",
   "execution_count": null,
   "metadata": {},
   "outputs": [],
   "source": [
    "y_train_over.value_counts().plot(kind='pie')\n",
    "print(y_train_over.value_counts())"
   ]
  },
  {
   "cell_type": "code",
   "execution_count": null,
   "metadata": {},
   "outputs": [],
   "source": [
    "wc_text = ' '.join(word for text in no_stopwords for word in text)\n",
    "\n",
    "wordcloud = WordCloud(\n",
    "    width=800,\n",
    "    height=400,\n",
    "    background_color ='white',\n",
    "    min_font_size=10,\n",
    "    max_font_size=110\n",
    ").generate(wc_text)\n",
    "plt.figure(figsize=(10, 10))\n",
    "plt.imshow(wordcloud)\n",
    "plt.axis('off')\n",
    "plt.show()"
   ]
  },
  {
   "cell_type": "markdown",
   "metadata": {},
   "source": [
    "## Visualización de los datos en 2D usando t-SNE"
   ]
  },
  {
   "cell_type": "code",
   "execution_count": null,
   "metadata": {},
   "outputs": [],
   "source": [
    "tsvd = TruncatedSVD(n_components=100)"
   ]
  },
  {
   "cell_type": "code",
   "execution_count": null,
   "metadata": {},
   "outputs": [],
   "source": [
    "def visualize(data=None, dimred=None) :\n",
    "    '''\n",
    "    Este método permite visualizar los datos de entrada en un plano cartesiano de dos dimensiones\n",
    "    a través del algoritmo de t-SNE. \n",
    "    '''\n",
    "    data_dimred = dimred.fit_transform(data)\n",
    "\n",
    "    tsne = TSNE(n_components=2, random_state=0, verbose=0, n_jobs=-1, learning_rate=10, perplexity=30, n_iter=3000, init='random', metric='cosine')\n",
    "    data_tsne = tsne.fit_transform(data_dimred)\n",
    "\n",
    "    N = 7724\n",
    "    np.random.seed(42)\n",
    "    random = np.random.permutation(data_raw.shape[0])\n",
    "\n",
    "    consolidated_data = data_raw.loc[random[:N],:].copy()\n",
    "    consolidated_data['ODS_labels'] = [ ods_labels.values[consolidated_data.iloc[i]['ODS']][0] for i in range(len(consolidated_data))]\n",
    "    consolidated_data['tsne-x'] = data_tsne[:,0]\n",
    "    consolidated_data['tsne-y'] = data_tsne[:,1]\n",
    "\n",
    "    fig, ax = plt.subplots(figsize=(15, 7))\n",
    "    scatter = ax.scatter(consolidated_data['tsne-x'], consolidated_data['tsne-y'],  c=consolidated_data['ODS'], cmap=\"tab20b\")\n",
    "    legend = ax.legend(*scatter.legend_elements(num=16), loc=\"upper left\", title=\"ODS\")\n",
    "    ax.add_artist(legend)"
   ]
  },
  {
   "cell_type": "code",
   "execution_count": null,
   "metadata": {},
   "outputs": [],
   "source": [
    "# vectorizer_countVectorizer = CountVectorizer()\n",
    "# data_countVectorizer = vectorizer_countVectorizer.fit_transform(processed)\n",
    "# visualize(data=data_countVectorizer, dimred=tsvd)\n"
   ]
  },
  {
   "cell_type": "code",
   "execution_count": null,
   "metadata": {},
   "outputs": [],
   "source": [
    "# vectorizer_tfidVectorizer = TfidfVectorizer()\n",
    "# visualize(data=x_vec, dimred=tsvd)"
   ]
  },
  {
   "cell_type": "markdown",
   "metadata": {},
   "source": [
    "## Selección del modelo de clasificación y entrenamiento\n",
    "\n",
    "Existen varios modelos que pueden ayudarnos con este problema de clasificación. Para seleccionar un modelo apropiado, usamos una metodología basada en dos pasos. Por un lado, comparamos el desempeño de varios modelos con los valores de hiper-parámetros por defecto y sobre dos tipos de representación en bolsa de palabras distintas. \n",
    "\n",
    "Los modelos que incluimos en la comparación son:\n",
    "\n",
    "- RandomForest\n",
    "- Support Vector Machine con kernel lineal\n",
    "- Support Vector Machine con kernel Gaussiano\n",
    "- Regresión logística\n",
    "- Multi-layer Perceptron Classifier.\n",
    "\n",
    "Para la representación de bolsa de palabras, hicimos pruebas tanto con `TfidfVectorizer` como con `CountVectorizer` y el desempeño de los modelos es mejor con `TfidfVectorizer` en la fase de entrenamiento, por lo que elegimos este ultimo. \n",
    "\n",
    "A partir de esta comparación inicial, seleccionamos el mejor modelo con la mejor representación de bolsa de palabras y procedemos a encontrar los mejor valores para los hiper-parámetros."
   ]
  },
  {
   "cell_type": "code",
   "execution_count": null,
   "metadata": {},
   "outputs": [],
   "source": [
    "def train_and_evaluate(model=None) : \n",
    "    '''\n",
    "    Este método se encarga de crear y ejecutar un pipeline de entrenamiento que a partir de la bolsa\n",
    "    de palabras en el parámetro 'vectorizer' aplica el algoritmo de reducción de la dimensionalidad\n",
    "    y entrena el modelo dado. Durante la ejecución de este método, se imprime el reporte de clasificación\n",
    "    correspondiente. \n",
    "    '''\n",
    "    steps = [\n",
    "        # (\"vectorizer\", vectorizer_tfidVectorizer),\n",
    "        # (\"dimred\", tsvd),\n",
    "        (\"model\", model)\n",
    "    ]\n",
    "\n",
    "    pipeline = Pipeline(steps)\n",
    "    pipeline.fit(X_train_over, y_train_over)\n",
    "    # x_val_vec = preprocessAndVectorize(x_val)\n",
    "    y_pred = pipeline.predict(x_val)\n",
    "    print(classification_report(y_val, y_pred))\n",
    "    return pipeline"
   ]
  },
  {
   "cell_type": "code",
   "execution_count": null,
   "metadata": {},
   "outputs": [],
   "source": [
    "print(\"\\n — Vectorizer: TfidfVectorizer; Model: RandomForest. Parámetros estándar\")\n",
    "pipeline = train_and_evaluate(model = RandomForestClassifier())\n",
    "\n",
    "print(\"\\n — Vectorizer: TfidfVectorizer; Model: SVC. Parámetros: {'kernel='rbf'}\\n \")\n",
    "pipeline = train_and_evaluate(model = SVC(kernel='rbf'))\n",
    "\n",
    "print(\"\\n — Vectorizer: TfidfVectorizer; Model: SVC. Parámetros: {'kernel='linear'}\\n \")\n",
    "pipeline = train_and_evaluate(model = SVC(kernel='linear'))\n",
    "\n",
    "print(\"\\n — Vectorizer: TfidfVectorizer; Model: LogisticRegression. Parámetros estándar\\n \")\n",
    "pipeline = train_and_evaluate(model = LogisticRegression())\n",
    "\n",
    "print(\"\\n — Vectorizer: TfidfVectorizer; Model: MLPClassifier. Parámetros estándar\\n \")\n",
    "pipeline = train_and_evaluate(model = MLPClassifier())"
   ]
  },
  {
   "cell_type": "markdown",
   "metadata": {},
   "source": [
    "Como se ha evidenciado en las estadísticas anteriores, el modelo Multi Layer Perceptron con sus parámetros por defecto alcanza una precisión de 0.91, la superior de entre todos los modelos, ahora intentaremos encontrar hiperparámetros que mejoren su desempeño. "
   ]
  },
  {
   "cell_type": "code",
   "execution_count": null,
   "metadata": {},
   "outputs": [],
   "source": [
    "mlp = MLPClassifier(max_iter=400)\n",
    "kfold = KFold(n_splits=5, shuffle=True, random_state=52)\n",
    "param_grid = {\n",
    "  'activation' : ['identity', 'logistic', 'tanh', 'relu'],\n",
    "  'solver' : ['lbfgs', 'sgd', 'adam'],\n",
    "  'hidden_layer_sizes': [(i,) for i in range(40, 151, 30)] # [(40,), (70,), (100,), (130,)]\n",
    "}\n",
    "mlpGrid = GridSearchCV(mlp, param_grid, cv=kfold, n_jobs=-1)\n",
    "mlpGrid.fit(X_train_over, y_train_over)\n"
   ]
  },
  {
   "cell_type": "code",
   "execution_count": null,
   "metadata": {},
   "outputs": [],
   "source": [
    "y_pred = mlpGrid.predict(x_val)\n",
    "print(classification_report(y_val, y_pred))"
   ]
  },
  {
   "cell_type": "code",
   "execution_count": null,
   "metadata": {},
   "outputs": [],
   "source": [
    "# svc = SVC()\n",
    "# Cs = [x / 10.0 for x in range(1, 100, 20)] # [0.1, 2.1, 4.1, 6.1, 8.1]\n",
    "# kernels = ['linear', 'rbf' , 'poly']\n",
    "# degree = [3,4,5]\n",
    "# epsilons = [x / 10.0 for x in range(1, 6, 1)] # [0.1, 0.2, 0.3, 0.4, 0.5]\n",
    "\n",
    "\n",
    "# param_grid = {\n",
    "#     'epsilon': epsilons,\n",
    "#     'kernel': kernels,\n",
    "#     'C': Cs\n",
    "# }\n",
    "\n",
    "# grid = GridSearchCV(svr, param_grid, cv=kfold, n_jobs=-1)\n",
    "# grid.fit(X_train, y_train)"
   ]
  },
  {
   "cell_type": "markdown",
   "metadata": {},
   "source": [
    "## Validación: Predicción en nuevos textos\n",
    "\n",
    "Finalmente, utilizaomos el mejor modelo (en este caso, una red neuronal que sigue una arquitectura conforme a \"multi-layer perceptron\") para clasificar documentos nuevos. "
   ]
  },
  {
   "cell_type": "code",
   "execution_count": null,
   "metadata": {},
   "outputs": [],
   "source": [
    "import urllib3 # Requiere —> pip3 install urllib3\n",
    "http = urllib3.PoolManager()\n",
    "\n",
    "def download_content(file_name = None) -> str :\n",
    "    '''\n",
    "    Descarga el archivo de acuerdo con el nombre que entra en el parámetro. \n",
    "    La descarga se hace desde el repositorio asociado a este proyecto. \n",
    "    '''\n",
    "    base_path = \"https://raw.githubusercontent.com/damenac/maia-uml/main/micro-proyectos/2_desarrollo_sostenible/data/publicaciones/\"\n",
    "    url = base_path + file_name\n",
    "    response = http.request('GET', url)\n",
    "    return response.data\n",
    "\n",
    "\n",
    "def predecir(file_name = None, texto = None) :\n",
    "    '''\n",
    "    Usa el pipeline de predicción entrenado anteriormente para clasificar el documento que entra por parámetro. \n",
    "    El documento puede recibirse en forma de texto (usando el parametro 'texto') o a partir de un nombre de archivo\n",
    "    que será descargado desde el repositorio de GitHub asociado al presente proyecto. \n",
    "    '''\n",
    "    if texto == None :\n",
    "        texto = download_content(file_name) \n",
    "\n",
    "    serie_prueba = pd.Series(data=[texto])\n",
    "    prediccion_prueba = pipeline.predict(serie_prueba)\n",
    "    resultado = ods_labels.iloc[prediccion_prueba[0]-1,0]\n",
    "    return resultado, prediccion_prueba[0]"
   ]
  },
  {
   "cell_type": "markdown",
   "metadata": {},
   "source": [
    "#### Ejemplo sencillo\n",
    "Empezamos con una prueba sencilla de un texto escrito por los autores de este notebook. "
   ]
  },
  {
   "cell_type": "code",
   "execution_count": null,
   "metadata": {},
   "outputs": [],
   "source": [
    "texto = 'Garantizar acceso al agua potable a la población vulnerable en los barrios del sur de Bogotá'\n",
    "predecir(texto = texto)"
   ]
  },
  {
   "cell_type": "markdown",
   "metadata": {},
   "source": [
    "#### Publicaciones en el sitio de Naciones Unidas en Colombia\n",
    "\n",
    "Ahora, procedemos a clasificar documentos completos tomados del sitio web de las Naciones Uniades en Colombia y los clasificamos con respecto al objetivo de desarollo sostenible con el que se relacionan. "
   ]
  },
  {
   "cell_type": "markdown",
   "metadata": {},
   "source": [
    "Publicación sobre la lucha contra el VIH/SIDA y la relación entre la disriminación contra personas LBGT y su vulnerabilidad frente a las enfermedades de transmisión sexual. \n",
    "\n",
    "**Fuente:** https://colombia.un.org/es/262073-día-de-la-cero-discriminación-para-proteger-la-salud-de-todas-las-personas-hay-que-proteger "
   ]
  },
  {
   "cell_type": "code",
   "execution_count": null,
   "metadata": {},
   "outputs": [],
   "source": [
    "predecir(file_name='publicacion_1.txt')"
   ]
  },
  {
   "cell_type": "markdown",
   "metadata": {},
   "source": [
    "Publicación sobre la visita de campo de la reina de los Paises Bajos al Valle de Aburrá (cerca de Medellín). Se trata de una visita de observación que muestra como dos empresas colombianas están trabajando en usar tecnología para facilitar el desarollo agrícola de la región. \n",
    "\n",
    "**Fuente:** https://colombia.un.org/es/261802-tecnología-y-finanzas-para-fomentar-un-futuro-más-verde "
   ]
  },
  {
   "cell_type": "code",
   "execution_count": null,
   "metadata": {},
   "outputs": [],
   "source": [
    "predecir(file_name='publicacion_2.txt')"
   ]
  },
  {
   "cell_type": "markdown",
   "metadata": {},
   "source": [
    "Publicación sobre la tercera visita del Consejo de Seguridad de la ONU a Colombia como parte de su seguimiento a los acuerdos de paz. \n",
    "\n",
    "**Fuente:** https://colombia.un.org/es/261491-colombia-la-paz-una-causa-social-real-que-entraña-un-esfuerzo-de-parte-de-toda-la-sociedad"
   ]
  },
  {
   "cell_type": "code",
   "execution_count": null,
   "metadata": {},
   "outputs": [],
   "source": [
    "predecir(file_name='publicacion_3.txt')"
   ]
  },
  {
   "cell_type": "markdown",
   "metadata": {},
   "source": [
    "## Clasificación de las publicaciones de Naciones Unidas Colombia durante los años 2023 y 2024\n",
    "\n",
    "Otra manera interesante de explotar el modelo construido en este documento, es analizar los documentos de una cierta fuente e identificar los objetivos de desarrollo sostenible más representados. En este caso, decidimos recopilar los documentos en la categoría de \"Historias\" del sitio webn de las Naciones Unidas en Colombia durante los años 2023 y 2024, para analizarlas con el clasificador. Es importante mencionar que seleccionamos la sección de \"Historias\" porque es precisamente esta sección la que se encarga de compilar los esfuerzos de Naciones Unidas para que el país logre sus objetivos desarrollo sostenible. \n",
    "\n",
    "**Fuente:** https://colombia.un.org/es/stories\n",
    "\n",
    "__Nota:__ Las publicaciones han sido organizadas en archivos de texto y publicadas en un repositorio en GitHub. El código a continuación, se encarga de descargar los archivos correspondientes, ejecutar la inferencia sobre el modelo de clasificación y consolidar los resultados en un diagrama de barras."
   ]
  },
  {
   "cell_type": "code",
   "execution_count": null,
   "metadata": {},
   "outputs": [],
   "source": [
    "publications_count = np.zeros(len(ods_labels))\n",
    "\n",
    "for i in range(1, 38):\n",
    "    label, index = predecir(file_name=\"publicacion_\" + str(i) + \".txt\")\n",
    "    publications_count[index - 1] = publications_count[index - 1] + 1\n",
    "\n",
    "ods_labels[\"publications\"] = publications_count\n",
    "ods_labels"
   ]
  },
  {
   "cell_type": "code",
   "execution_count": null,
   "metadata": {},
   "outputs": [],
   "source": [
    "from IPython.display import set_matplotlib_formats\n",
    "set_matplotlib_formats('retina')\n",
    "\n",
    "fig, ax = plt.subplots()\n",
    "plt.barh(\n",
    "    y=ods_labels['label'],\n",
    "    width=ods_labels['publications'], \n",
    "    color='purple'\n",
    ")\n",
    "ax.set_axisbelow(True)\n",
    "ax.xaxis.grid(True, color='#EEEEEE')\n",
    "ax.yaxis.grid(False)\n",
    "ax.set_ylabel('Objetivos de desarrollo sostenible', labelpad=15, color='#333333', weight='bold')\n",
    "ax.set_title('Cantidad de publicaciones', pad=15, color='#333333', weight='bold')"
   ]
  }
 ],
 "metadata": {
  "kernelspec": {
   "display_name": "Python 3 (ipykernel)",
   "language": "python",
   "name": "python3"
  },
  "language_info": {
   "codemirror_mode": {
    "name": "ipython",
    "version": 3
   },
   "file_extension": ".py",
   "mimetype": "text/x-python",
   "name": "python",
   "nbconvert_exporter": "python",
   "pygments_lexer": "ipython3",
   "version": "3.11.4"
  }
 },
 "nbformat": 4,
 "nbformat_minor": 2
}
