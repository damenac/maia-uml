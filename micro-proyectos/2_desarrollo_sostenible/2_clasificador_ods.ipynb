{
 "cells": [
  {
   "cell_type": "markdown",
   "metadata": {},
   "source": [
    "**Universidad de los Andes**<br>\n",
    "Facultad de Ingeniería<br>\n",
    "__Maestría en Inteligencia Artificial__"
   ]
  },
  {
   "cell_type": "markdown",
   "metadata": {},
   "source": [
    "# Alcanzando los objetivos de desarrollo sostenible.\n",
    "\n",
    "Autores: __Andrés Vega__ y __David Méndez Acuña__\n",
    "\n",
    "### Introducción"
   ]
  },
  {
   "cell_type": "code",
   "execution_count": 4,
   "metadata": {},
   "outputs": [],
   "source": [
    "import pandas as pd\n",
    "from datetime import datetime\n",
    "\n",
    "from sklearn.base import BaseEstimator, TransformerMixin"
   ]
  },
  {
   "cell_type": "code",
   "execution_count": 5,
   "metadata": {},
   "outputs": [],
   "source": [
    "class Context:\n",
    "    '''\n",
    "    Clase que permite almacenar el contexto de ejecución de los pasos \n",
    "    del pipeline. Esta clase será particularmente útil en el último \n",
    "    paso del pipeline donde necesitaremoslos datos generados por todos \n",
    "    los pasos del pipeline para imprimir el detalle de los resultados.\n",
    "    '''\n",
    "    def __init__(self, model) -> None:\n",
    "        self.model = model\n",
    "\n",
    "    def log(message=None):\n",
    "        '''\n",
    "        Imprime el mensaje que entra por parámetro acompañado de la hora \n",
    "        actual. Este método será util para la trazabilidad de la ejecución\n",
    "        del pipeline.  \n",
    "        '''\n",
    "        now = datetime.now()\n",
    "        print(f'[INFO] {now.strftime(\"%H:%M:%S\")} — {message}')"
   ]
  },
  {
   "cell_type": "code",
   "execution_count": null,
   "metadata": {},
   "outputs": [],
   "source": [
    "class FileLoader(BaseEstimator, TransformerMixin) :\n",
    "    '''\n",
    "    Este paso del pipeline se encarga de cargar el archivo con los datos de  \n",
    "    entrenamiento a partir de un archivo. En este paso se recibe la ruta del \n",
    "    archivo y se retorna un data frame con los datos organizados de manera tabular. \n",
    "    '''\n",
    "    def __init__(self, context) -> None :\n",
    "        self.context = context\n",
    "\n",
    "    def fit(self, X, y=None) :\n",
    "        return self\n",
    "    \n",
    "    def transform(self, X, y=None):\n",
    "        '''\n",
    "        Recibe la ruta de un archivo en el parámetro X y retorna un data frame\n",
    "        con los datos organizados de manera tabular. \n",
    "        \n",
    "        Parámetros relevantes\n",
    "        ------------------------\n",
    "        X : str\n",
    "            La ruta del archivo que contiene los datos de entrenamiento. \n",
    "        '''\n"
   ]
  }
 ],
 "metadata": {
  "kernelspec": {
   "display_name": ".venv",
   "language": "python",
   "name": "python3"
  },
  "language_info": {
   "codemirror_mode": {
    "name": "ipython",
    "version": 3
   },
   "file_extension": ".py",
   "mimetype": "text/x-python",
   "name": "python",
   "nbconvert_exporter": "python",
   "pygments_lexer": "ipython3",
   "version": "3.11.4"
  }
 },
 "nbformat": 4,
 "nbformat_minor": 2
}
